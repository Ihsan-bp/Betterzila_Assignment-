{
 "cells": [
  {
   "cell_type": "code",
   "execution_count": 4,
   "id": "c48f2430",
   "metadata": {
    "collapsed": true
   },
   "outputs": [
    {
     "name": "stdout",
     "output_type": "stream",
     "text": [
      "Collecting langchain\n",
      "  Downloading langchain-0.1.4-py3-none-any.whl (803 kB)\n",
      "     -------------------------------------- 803.6/803.6 kB 4.2 MB/s eta 0:00:00\n",
      "Collecting aiohttp<4.0.0,>=3.8.3\n",
      "  Downloading aiohttp-3.9.1-cp39-cp39-win_amd64.whl (365 kB)\n",
      "     -------------------------------------- 365.5/365.5 kB 7.6 MB/s eta 0:00:00\n",
      "Collecting dataclasses-json<0.7,>=0.5.7\n",
      "  Using cached dataclasses_json-0.6.3-py3-none-any.whl (28 kB)\n",
      "Requirement already satisfied: requests<3,>=2 in c:\\users\\ihsan b p\\anaconda3\\lib\\site-packages (from langchain) (2.31.0)\n",
      "Requirement already satisfied: tenacity<9.0.0,>=8.1.0 in c:\\users\\ihsan b p\\anaconda3\\lib\\site-packages (from langchain) (8.2.3)\n",
      "Requirement already satisfied: SQLAlchemy<3,>=1.4 in c:\\users\\ihsan b p\\anaconda3\\lib\\site-packages (from langchain) (1.4.32)\n",
      "Collecting langchain-core<0.2,>=0.1.16\n",
      "  Downloading langchain_core-0.1.16-py3-none-any.whl (230 kB)\n",
      "     -------------------------------------- 230.3/230.3 kB 7.1 MB/s eta 0:00:00\n",
      "Collecting langchain-community<0.1,>=0.0.14\n"
     ]
    },
    {
     "name": "stderr",
     "output_type": "stream",
     "text": [
      "WARNING: Ignoring invalid distribution -etuptools (c:\\users\\ihsan b p\\anaconda3\\lib\\site-packages)\n",
      "WARNING: Ignoring invalid distribution -etuptools (c:\\users\\ihsan b p\\anaconda3\\lib\\site-packages)\n",
      "WARNING: Ignoring invalid distribution -etuptools (c:\\users\\ihsan b p\\anaconda3\\lib\\site-packages)\n",
      "    WARNING: Ignoring invalid distribution -etuptools (c:\\users\\ihsan b p\\anaconda3\\lib\\site-packages)\n",
      "    WARNING: Ignoring invalid distribution -etuptools (c:\\users\\ihsan b p\\anaconda3\\lib\\site-packages)\n",
      "WARNING: Ignoring invalid distribution -etuptools (c:\\users\\ihsan b p\\anaconda3\\lib\\site-packages)\n",
      "WARNING: Ignoring invalid distribution -etuptools (c:\\users\\ihsan b p\\anaconda3\\lib\\site-packages)\n",
      "WARNING: Ignoring invalid distribution -etuptools (c:\\users\\ihsan b p\\anaconda3\\lib\\site-packages)\n",
      "WARNING: Ignoring invalid distribution -etuptools (c:\\users\\ihsan b p\\anaconda3\\lib\\site-packages)\n",
      "WARNING: Ignoring invalid distribution -etuptools (c:\\users\\ihsan b p\\anaconda3\\lib\\site-packages)\n",
      "WARNING: Ignoring invalid distribution -etuptools (c:\\users\\ihsan b p\\anaconda3\\lib\\site-packages)\n",
      "WARNING: Ignoring invalid distribution -etuptools (c:\\users\\ihsan b p\\anaconda3\\lib\\site-packages)\n",
      "WARNING: Ignoring invalid distribution -etuptools (c:\\users\\ihsan b p\\anaconda3\\lib\\site-packages)\n",
      "WARNING: Ignoring invalid distribution -etuptools (c:\\users\\ihsan b p\\anaconda3\\lib\\site-packages)\n",
      "WARNING: Ignoring invalid distribution -etuptools (c:\\users\\ihsan b p\\anaconda3\\lib\\site-packages)\n",
      "WARNING: Ignoring invalid distribution -etuptools (c:\\users\\ihsan b p\\anaconda3\\lib\\site-packages)\n",
      "ERROR: pip's dependency resolver does not currently take into account all the packages that are installed. This behaviour is the source of the following dependency conflicts.\n",
      "tensorflow-intel 2.12.0 requires numpy<1.24,>=1.22, but you have numpy 1.26.3 which is incompatible.\n",
      "simplet5 0.1.4 requires transformers==4.16.2, but you have transformers 4.36.0.dev0 which is incompatible.\n",
      "jupyter-server 1.13.5 requires pywinpty<2; os_name == \"nt\", but you have pywinpty 2.0.2 which is incompatible.\n",
      "WARNING: Ignoring invalid distribution -etuptools (c:\\users\\ihsan b p\\anaconda3\\lib\\site-packages)\n"
     ]
    },
    {
     "name": "stdout",
     "output_type": "stream",
     "text": [
      "  Downloading langchain_community-0.0.16-py3-none-any.whl (1.6 MB)\n",
      "     ---------------------------------------- 1.6/1.6 MB 8.6 MB/s eta 0:00:00\n",
      "Collecting langsmith<0.1,>=0.0.83\n",
      "  Downloading langsmith-0.0.83-py3-none-any.whl (49 kB)\n",
      "     ---------------------------------------- 49.3/49.3 kB 2.4 MB/s eta 0:00:00\n",
      "Collecting jsonpatch<2.0,>=1.33\n",
      "  Using cached jsonpatch-1.33-py2.py3-none-any.whl (12 kB)\n",
      "Requirement already satisfied: PyYAML>=5.3 in c:\\users\\ihsan b p\\anaconda3\\lib\\site-packages (from langchain) (6.0)\n",
      "Requirement already satisfied: async-timeout<5.0.0,>=4.0.0 in c:\\users\\ihsan b p\\anaconda3\\lib\\site-packages (from langchain) (4.0.1)\n",
      "Requirement already satisfied: numpy<2,>=1 in c:\\users\\ihsan b p\\anaconda3\\lib\\site-packages (from langchain) (1.26.3)\n",
      "Requirement already satisfied: pydantic<3,>=1 in c:\\users\\ihsan b p\\anaconda3\\lib\\site-packages (from langchain) (1.10.9)\n",
      "Requirement already satisfied: frozenlist>=1.1.1 in c:\\users\\ihsan b p\\anaconda3\\lib\\site-packages (from aiohttp<4.0.0,>=3.8.3->langchain) (1.2.0)\n",
      "Requirement already satisfied: aiosignal>=1.1.2 in c:\\users\\ihsan b p\\anaconda3\\lib\\site-packages (from aiohttp<4.0.0,>=3.8.3->langchain) (1.2.0)\n",
      "Requirement already satisfied: yarl<2.0,>=1.0 in c:\\users\\ihsan b p\\anaconda3\\lib\\site-packages (from aiohttp<4.0.0,>=3.8.3->langchain) (1.6.3)\n",
      "Requirement already satisfied: attrs>=17.3.0 in c:\\users\\ihsan b p\\anaconda3\\lib\\site-packages (from aiohttp<4.0.0,>=3.8.3->langchain) (21.4.0)\n",
      "Requirement already satisfied: multidict<7.0,>=4.5 in c:\\users\\ihsan b p\\anaconda3\\lib\\site-packages (from aiohttp<4.0.0,>=3.8.3->langchain) (5.1.0)\n",
      "Requirement already satisfied: typing-extensions>=3.6.5 in c:\\users\\ihsan b p\\anaconda3\\lib\\site-packages (from async-timeout<5.0.0,>=4.0.0->langchain) (4.9.0)\n",
      "Collecting typing-inspect<1,>=0.4.0\n",
      "  Using cached typing_inspect-0.9.0-py3-none-any.whl (8.8 kB)\n",
      "Collecting marshmallow<4.0.0,>=3.18.0\n",
      "  Using cached marshmallow-3.20.2-py3-none-any.whl (49 kB)\n",
      "Collecting jsonpointer>=1.9\n",
      "  Using cached jsonpointer-2.4-py2.py3-none-any.whl (7.8 kB)\n",
      "Collecting packaging<24.0,>=23.2\n",
      "  Using cached packaging-23.2-py3-none-any.whl (53 kB)\n",
      "Requirement already satisfied: anyio<5,>=3 in c:\\users\\ihsan b p\\anaconda3\\lib\\site-packages (from langchain-core<0.2,>=0.1.16->langchain) (3.5.0)\n",
      "Requirement already satisfied: idna<4,>=2.5 in c:\\users\\ihsan b p\\anaconda3\\lib\\site-packages (from requests<3,>=2->langchain) (3.3)\n",
      "Requirement already satisfied: urllib3<3,>=1.21.1 in c:\\users\\ihsan b p\\anaconda3\\lib\\site-packages (from requests<3,>=2->langchain) (1.26.9)\n",
      "Requirement already satisfied: charset-normalizer<4,>=2 in c:\\users\\ihsan b p\\anaconda3\\lib\\site-packages (from requests<3,>=2->langchain) (2.0.4)\n",
      "Requirement already satisfied: certifi>=2017.4.17 in c:\\users\\ihsan b p\\anaconda3\\lib\\site-packages (from requests<3,>=2->langchain) (2021.10.8)\n",
      "Requirement already satisfied: greenlet!=0.4.17 in c:\\users\\ihsan b p\\anaconda3\\lib\\site-packages (from SQLAlchemy<3,>=1.4->langchain) (1.1.1)\n",
      "Requirement already satisfied: sniffio>=1.1 in c:\\users\\ihsan b p\\anaconda3\\lib\\site-packages (from anyio<5,>=3->langchain-core<0.2,>=0.1.16->langchain) (1.2.0)\n",
      "Requirement already satisfied: mypy-extensions>=0.3.0 in c:\\users\\ihsan b p\\anaconda3\\lib\\site-packages (from typing-inspect<1,>=0.4.0->dataclasses-json<0.7,>=0.5.7->langchain) (0.4.3)\n",
      "Installing collected packages: typing-inspect, packaging, jsonpointer, marshmallow, langsmith, jsonpatch, aiohttp, langchain-core, dataclasses-json, langchain-community, langchain\n",
      "  Attempting uninstall: packaging\n",
      "    Found existing installation: packaging 21.3\n",
      "    Uninstalling packaging-21.3:\n",
      "      Successfully uninstalled packaging-21.3\n",
      "  Attempting uninstall: aiohttp\n",
      "    Found existing installation: aiohttp 3.8.1\n",
      "    Uninstalling aiohttp-3.8.1:\n",
      "      Successfully uninstalled aiohttp-3.8.1\n",
      "Successfully installed aiohttp-3.9.1 dataclasses-json-0.6.3 jsonpatch-1.33 jsonpointer-2.4 langchain-0.1.4 langchain-community-0.0.16 langchain-core-0.1.16 langsmith-0.0.83 marshmallow-3.20.2 packaging-23.2 typing-inspect-0.9.0\n"
     ]
    },
    {
     "name": "stderr",
     "output_type": "stream",
     "text": [
      "WARNING: Ignoring invalid distribution -etuptools (c:\\users\\ihsan b p\\anaconda3\\lib\\site-packages)\n",
      "WARNING: Ignoring invalid distribution -etuptools (c:\\users\\ihsan b p\\anaconda3\\lib\\site-packages)\n",
      "\n",
      "[notice] A new release of pip is available: 23.0.1 -> 23.3.2\n",
      "[notice] To update, run: python.exe -m pip install --upgrade pip\n"
     ]
    }
   ],
   "source": [
    "!pip install langchain\n",
    "!pip install gpt4all\n",
    "!pip install pypdf\n",
    "!pip install faiss-cpu"
   ]
  },
  {
   "cell_type": "code",
   "execution_count": 15,
   "id": "ce750a8b",
   "metadata": {},
   "outputs": [],
   "source": [
    "import os\n",
    "from langchain_community.document_loaders import PyPDFLoader\n",
    "#text spliter\n",
    "from langchain.text_splitter import RecursiveCharacterTextSplitter\n",
    "#embeding function\n",
    "from langchain_community.embeddings import GPT4AllEmbeddings\n",
    "#vector database\n",
    "from langchain.vectorstores import FAISS\n",
    "#llm from anyscle\n",
    "from langchain_community.llms import Anyscale\n",
    "#chain\n",
    "from langchain.chains import RetrievalQA\n",
    "#memory\n",
    "from langchain.memory import ConversationBufferMemory\n",
    "#prompt templatte\n",
    "from langchain.prompts import PromptTemplate"
   ]
  },
  {
   "cell_type": "code",
   "execution_count": 21,
   "id": "374ef355",
   "metadata": {},
   "outputs": [],
   "source": [
    "#Loading pdf\n",
    "#Loading pdf\n",
    "def data_loader(pdf):\n",
    "  pdf =PyPDFLoader(pdf).load()\n",
    "  return pdf"
   ]
  },
  {
   "cell_type": "code",
   "execution_count": 22,
   "id": "74488e60",
   "metadata": {},
   "outputs": [],
   "source": [
    "# Spliting loaded documents\n",
    "def convert_to_chunks(data):\n",
    "    spliter = RecursiveCharacterTextSplitter(\n",
    "        chunk_size = 600,\n",
    "        chunk_overlap = 60)\n",
    "    docs  = spliter.split_documents(data)\n",
    "    return docs"
   ]
  },
  {
   "cell_type": "code",
   "execution_count": 8,
   "id": "ca5852c7",
   "metadata": {},
   "outputs": [
    {
     "data": {
      "text/plain": [
       "94"
      ]
     },
     "execution_count": 8,
     "metadata": {},
     "output_type": "execute_result"
    }
   ],
   "source": [
    "len(docs)"
   ]
  },
  {
   "cell_type": "code",
   "execution_count": 28,
   "id": "e983060c",
   "metadata": {},
   "outputs": [],
   "source": [
    "#importing and defining embedding model, we are using opensource 'GPT4AllEmbeddings'\n",
    "#embedding and storing in a vector database\n",
    "def vector_store(docs):\n",
    "    gpt4all_embd = GPT4AllEmbeddings()\n",
    "    vdb = FAISS.from_documents(docs, gpt4all_embd)\n",
    "    return vdb"
   ]
  },
  {
   "cell_type": "code",
   "execution_count": 29,
   "id": "c54bbdb6",
   "metadata": {},
   "outputs": [],
   "source": [
    "#Defining LLm model\n",
    "#Anyscale llm-llama model 70B\n",
    "ANYSCALE_API_BASE = \"https://api.endpoints.anyscale.com/v1\"\n",
    "ANYSCALE_API_KEY = \"esecret_pmx42up5fwnqdlwrffrgpvin5u\"\n",
    "ANYSCALE_MODEL_NAME = \"meta-llama/Llama-2-70b-chat-hf\"\n",
    "\n",
    "os.environ[\"ANYSCALE_API_BASE\"] = ANYSCALE_API_BASE\n",
    "os.environ[\"ANYSCALE_API_KEY\"] = ANYSCALE_API_KEY"
   ]
  },
  {
   "cell_type": "code",
   "execution_count": 30,
   "id": "e3ed3cae",
   "metadata": {},
   "outputs": [],
   "source": [
    "#defining LLm\n",
    "llm = Anyscale(model_name=ANYSCALE_MODEL_NAME, temperature=0.1)"
   ]
  },
  {
   "cell_type": "markdown",
   "id": "2dfd503d",
   "metadata": {},
   "source": [
    "## prompt template and chain function"
   ]
  },
  {
   "cell_type": "code",
   "execution_count": 31,
   "id": "71939107",
   "metadata": {},
   "outputs": [],
   "source": [
    "def chain_function(vdb):\n",
    "    prompt_template = \"\"\"\n",
    "    you are a friendly question answering bot\\\n",
    "    you are expected to ask questions by users you have to answer to users question in a friendly way\\\n",
    "    Do not  do not hallucinate, generate an answer based on this context only.\\\n",
    "    Directly answer to the user question.\\\n",
    "    CONTEXT: {context}\n",
    "\n",
    "    QUESTION: {question}\"\"\"\n",
    "\n",
    "\n",
    "    PROMPT = PromptTemplate(\n",
    "        template=prompt_template, input_variables=[\"context\", \"question\"]\n",
    "    )\n",
    "    chain_type_kwargs = {\"prompt\": PROMPT}\n",
    "    chain = RetrievalQA.from_chain_type(llm=llm,\n",
    "                                chain_type=\"stuff\",\n",
    "                                retriever=vdb.as_retriever(),\n",
    "                                input_key=\"query\",\n",
    "                                return_source_documents=True,\n",
    "                                chain_type_kwargs=chain_type_kwargs)\n",
    "    return chain"
   ]
  },
  {
   "cell_type": "code",
   "execution_count": null,
   "id": "1df953cd",
   "metadata": {},
   "outputs": [],
   "source": [
    "if __name__ == \"__main__\":\n",
    "    data = data_loader(\"C:\\\\Users\\\\IHSAN B P\\\\Desktop\\\\ibp\\\\gen ai assessment\\\\48lawsofpower.pdf\")\n",
    "    docs = convert_to_chunks(data)\n",
    "    vdb = vector_store(docs)\n",
    "    chain = chain_function(vdb)\n",
    "    response = chain(\"Can you give me an example from history where the enemy was crushed totally from the book?\")\n",
    "    print(response['result'])"
   ]
  },
  {
   "cell_type": "markdown",
   "id": "0942e7c6",
   "metadata": {},
   "source": [
    "# console"
   ]
  },
  {
   "cell_type": "code",
   "execution_count": 33,
   "id": "7f86c93c",
   "metadata": {},
   "outputs": [
    {
     "name": "stdout",
     "output_type": "stream",
     "text": [
      "Ask a question (type 'exit' to quit): exit\n"
     ]
    }
   ],
   "source": [
    "#console where you can aske your question and you will get the asnwer\n",
    "if __name__ == \"__main__\":\n",
    "    # Load and process the data\n",
    "    data = data_loader(\"C:\\\\Users\\\\IHSAN B P\\\\Desktop\\\\ibp\\\\gen ai assessment\\\\48lawsofpower.pdf\")\n",
    "    docs = convert_to_chunks(data)\n",
    "    vdb = vector_store(docs)\n",
    "\n",
    "    # Create a chain function instance\n",
    "    chain = chain_function(vdb)\n",
    "\n",
    "    # Console loop to ask questions\n",
    "    while True:\n",
    "        question = input(\"Ask a question (type 'exit' to quit): \")\n",
    "        if question.lower() == 'exit':\n",
    "            break\n",
    "        response = chain(question)\n",
    "        print(response['result'])"
   ]
  },
  {
   "cell_type": "code",
   "execution_count": null,
   "id": "7107b9ca",
   "metadata": {},
   "outputs": [],
   "source": []
  },
  {
   "cell_type": "code",
   "execution_count": null,
   "id": "1d85fdea",
   "metadata": {},
   "outputs": [],
   "source": []
  },
  {
   "cell_type": "markdown",
   "id": "acc17b07",
   "metadata": {},
   "source": [
    "# web app\n"
   ]
  },
  {
   "cell_type": "code",
   "execution_count": 34,
   "id": "3711c774",
   "metadata": {
    "collapsed": true
   },
   "outputs": [
    {
     "name": "stderr",
     "output_type": "stream",
     "text": [
      "WARNING: Ignoring invalid distribution -etuptools (c:\\users\\ihsan b p\\anaconda3\\lib\\site-packages)\n",
      "WARNING: Ignoring invalid distribution -etuptools (c:\\users\\ihsan b p\\anaconda3\\lib\\site-packages)\n",
      "WARNING: Ignoring invalid distribution -etuptools (c:\\users\\ihsan b p\\anaconda3\\lib\\site-packages)\n",
      "WARNING: Ignoring invalid distribution -etuptools (c:\\users\\ihsan b p\\anaconda3\\lib\\site-packages)\n",
      "WARNING: Ignoring invalid distribution -etuptools (c:\\users\\ihsan b p\\anaconda3\\lib\\site-packages)"
     ]
    },
    {
     "name": "stdout",
     "output_type": "stream",
     "text": [
      "Collecting streamlit\n",
      "  Downloading streamlit-1.30.0-py2.py3-none-any.whl (8.4 MB)\n",
      "     ---------------------------------------- 8.4/8.4 MB 10.1 MB/s eta 0:00:00\n",
      "Collecting tzlocal<6,>=1.1\n",
      "  Downloading tzlocal-5.2-py3-none-any.whl (17 kB)\n",
      "Requirement already satisfied: watchdog>=2.1.5 in c:\\users\\ihsan b p\\anaconda3\\lib\\site-packages (from streamlit) (2.1.6)\n",
      "Requirement already satisfied: cachetools<6,>=4.0 in c:\\users\\ihsan b p\\anaconda3\\lib\\site-packages (from streamlit) (4.2.2)\n",
      "Requirement already satisfied: rich<14,>=10.14.0 in c:\\users\\ihsan b p\\anaconda3\\lib\\site-packages (from streamlit) (12.6.0)\n",
      "Collecting gitpython!=3.1.19,<4,>=3.0.7\n",
      "  Downloading GitPython-3.1.41-py3-none-any.whl (196 kB)\n",
      "     ------------------------------------- 196.4/196.4 kB 12.4 MB/s eta 0:00:00\n",
      "Requirement already satisfied: pillow<11,>=7.1.0 in c:\\users\\ihsan b p\\anaconda3\\lib\\site-packages (from streamlit) (10.1.0)\n",
      "Requirement already satisfied: pandas<3,>=1.3.0 in c:\\users\\ihsan b p\\anaconda3\\lib\\site-packages (from streamlit) (1.4.2)\n",
      "Requirement already satisfied: importlib-metadata<8,>=1.4 in c:\\users\\ihsan b p\\anaconda3\\lib\\site-packages (from streamlit) (4.11.3)\n",
      "Collecting blinker<2,>=1.0.0\n",
      "  Downloading blinker-1.7.0-py3-none-any.whl (13 kB)\n",
      "Requirement already satisfied: typing-extensions<5,>=4.3.0 in c:\\users\\ihsan b p\\anaconda3\\lib\\site-packages (from streamlit) (4.9.0)\n",
      "Requirement already satisfied: pyarrow>=6.0 in c:\\users\\ihsan b p\\anaconda3\\lib\\site-packages (from streamlit) (12.0.0)\n",
      "Requirement already satisfied: numpy<2,>=1.19.3 in c:\\users\\ihsan b p\\anaconda3\\lib\\site-packages (from streamlit) (1.26.3)\n",
      "Requirement already satisfied: click<9,>=7.0 in c:\\users\\ihsan b p\\anaconda3\\lib\\site-packages (from streamlit) (8.0.4)\n",
      "Requirement already satisfied: tornado<7,>=6.0.3 in c:\\users\\ihsan b p\\anaconda3\\lib\\site-packages (from streamlit) (6.1)\n",
      "Requirement already satisfied: python-dateutil<3,>=2.7.3 in c:\\users\\ihsan b p\\anaconda3\\lib\\site-packages (from streamlit) (2.8.2)"
     ]
    },
    {
     "name": "stderr",
     "output_type": "stream",
     "text": [
      "\n",
      "WARNING: Ignoring invalid distribution -etuptools (c:\\users\\ihsan b p\\anaconda3\\lib\\site-packages)\n",
      "WARNING: Ignoring invalid distribution -etuptools (c:\\users\\ihsan b p\\anaconda3\\lib\\site-packages)\n",
      "WARNING: Ignoring invalid distribution -etuptools (c:\\users\\ihsan b p\\anaconda3\\lib\\site-packages)\n",
      "WARNING: Ignoring invalid distribution -etuptools (c:\\users\\ihsan b p\\anaconda3\\lib\\site-packages)\n",
      "WARNING: Ignoring invalid distribution -etuptools (c:\\users\\ihsan b p\\anaconda3\\lib\\site-packages)\n",
      "WARNING: Ignoring invalid distribution -etuptools (c:\\users\\ihsan b p\\anaconda3\\lib\\site-packages)\n",
      "WARNING: Ignoring invalid distribution -etuptools (c:\\users\\ihsan b p\\anaconda3\\lib\\site-packages)\n",
      "WARNING: Ignoring invalid distribution -etuptools (c:\\users\\ihsan b p\\anaconda3\\lib\\site-packages)\n",
      "WARNING: Ignoring invalid distribution -etuptools (c:\\users\\ihsan b p\\anaconda3\\lib\\site-packages)\n",
      "WARNING: Ignoring invalid distribution -etuptools (c:\\users\\ihsan b p\\anaconda3\\lib\\site-packages)\n",
      "WARNING: Ignoring invalid distribution -etuptools (c:\\users\\ihsan b p\\anaconda3\\lib\\site-packages)\n",
      "\n",
      "[notice] A new release of pip is available: 23.0.1 -> 23.3.2\n",
      "[notice] To update, run: python.exe -m pip install --upgrade pip\n"
     ]
    },
    {
     "name": "stdout",
     "output_type": "stream",
     "text": [
      "\n",
      "Requirement already satisfied: toml<2,>=0.10.1 in c:\\users\\ihsan b p\\anaconda3\\lib\\site-packages (from streamlit) (0.10.2)\n",
      "Collecting pydeck<1,>=0.8.0b4\n",
      "  Downloading pydeck-0.8.1b0-py2.py3-none-any.whl (4.8 MB)\n",
      "     ---------------------------------------- 4.8/4.8 MB 17.0 MB/s eta 0:00:00\n",
      "Collecting validators<1,>=0.2\n",
      "  Downloading validators-0.22.0-py3-none-any.whl (26 kB)\n",
      "Requirement already satisfied: requests<3,>=2.27 in c:\\users\\ihsan b p\\anaconda3\\lib\\site-packages (from streamlit) (2.31.0)\n",
      "Requirement already satisfied: packaging<24,>=16.8 in c:\\users\\ihsan b p\\anaconda3\\lib\\site-packages (from streamlit) (23.2)\n",
      "Requirement already satisfied: protobuf<5,>=3.20 in c:\\users\\ihsan b p\\anaconda3\\lib\\site-packages (from streamlit) (4.22.1)\n",
      "Requirement already satisfied: tenacity<9,>=8.1.0 in c:\\users\\ihsan b p\\anaconda3\\lib\\site-packages (from streamlit) (8.2.3)\n",
      "Collecting altair<6,>=4.0\n",
      "  Downloading altair-5.2.0-py3-none-any.whl (996 kB)\n",
      "     ------------------------------------- 996.9/996.9 kB 21.0 MB/s eta 0:00:00\n",
      "Requirement already satisfied: jinja2 in c:\\users\\ihsan b p\\anaconda3\\lib\\site-packages (from altair<6,>=4.0->streamlit) (2.11.3)\n",
      "Requirement already satisfied: toolz in c:\\users\\ihsan b p\\anaconda3\\lib\\site-packages (from altair<6,>=4.0->streamlit) (0.11.2)\n",
      "Requirement already satisfied: jsonschema>=3.0 in c:\\users\\ihsan b p\\anaconda3\\lib\\site-packages (from altair<6,>=4.0->streamlit) (4.4.0)\n",
      "Requirement already satisfied: colorama in c:\\users\\ihsan b p\\anaconda3\\lib\\site-packages (from click<9,>=7.0->streamlit) (0.4.6)\n",
      "Collecting gitdb<5,>=4.0.1\n",
      "  Downloading gitdb-4.0.11-py3-none-any.whl (62 kB)\n",
      "     ---------------------------------------- 62.7/62.7 kB ? eta 0:00:00\n",
      "Requirement already satisfied: zipp>=0.5 in c:\\users\\ihsan b p\\anaconda3\\lib\\site-packages (from importlib-metadata<8,>=1.4->streamlit) (3.7.0)\n",
      "Requirement already satisfied: pytz>=2020.1 in c:\\users\\ihsan b p\\anaconda3\\lib\\site-packages (from pandas<3,>=1.3.0->streamlit) (2021.3)\n",
      "Requirement already satisfied: six>=1.5 in c:\\users\\ihsan b p\\anaconda3\\lib\\site-packages (from python-dateutil<3,>=2.7.3->streamlit) (1.16.0)\n",
      "Requirement already satisfied: charset-normalizer<4,>=2 in c:\\users\\ihsan b p\\anaconda3\\lib\\site-packages (from requests<3,>=2.27->streamlit) (2.0.4)\n",
      "Requirement already satisfied: urllib3<3,>=1.21.1 in c:\\users\\ihsan b p\\anaconda3\\lib\\site-packages (from requests<3,>=2.27->streamlit) (1.26.9)\n",
      "Requirement already satisfied: certifi>=2017.4.17 in c:\\users\\ihsan b p\\anaconda3\\lib\\site-packages (from requests<3,>=2.27->streamlit) (2021.10.8)\n",
      "Requirement already satisfied: idna<4,>=2.5 in c:\\users\\ihsan b p\\anaconda3\\lib\\site-packages (from requests<3,>=2.27->streamlit) (3.3)\n",
      "Requirement already satisfied: pygments<3.0.0,>=2.6.0 in c:\\users\\ihsan b p\\anaconda3\\lib\\site-packages (from rich<14,>=10.14.0->streamlit) (2.17.2)\n",
      "Requirement already satisfied: commonmark<0.10.0,>=0.9.0 in c:\\users\\ihsan b p\\anaconda3\\lib\\site-packages (from rich<14,>=10.14.0->streamlit) (0.9.1)\n",
      "Collecting tzdata\n",
      "  Downloading tzdata-2023.4-py2.py3-none-any.whl (346 kB)\n",
      "     ------------------------------------- 346.6/346.6 kB 22.4 MB/s eta 0:00:00\n",
      "Collecting smmap<6,>=3.0.1\n",
      "  Using cached smmap-5.0.1-py3-none-any.whl (24 kB)\n",
      "Requirement already satisfied: MarkupSafe>=0.23 in c:\\users\\ihsan b p\\anaconda3\\lib\\site-packages (from jinja2->altair<6,>=4.0->streamlit) (2.0.1)\n",
      "Requirement already satisfied: pyrsistent!=0.17.0,!=0.17.1,!=0.17.2,>=0.14.0 in c:\\users\\ihsan b p\\anaconda3\\lib\\site-packages (from jsonschema>=3.0->altair<6,>=4.0->streamlit) (0.18.0)\n",
      "Requirement already satisfied: attrs>=17.4.0 in c:\\users\\ihsan b p\\anaconda3\\lib\\site-packages (from jsonschema>=3.0->altair<6,>=4.0->streamlit) (21.4.0)\n",
      "Installing collected packages: validators, tzdata, smmap, blinker, tzlocal, pydeck, gitdb, gitpython, altair, streamlit\n",
      "Successfully installed altair-5.2.0 blinker-1.7.0 gitdb-4.0.11 gitpython-3.1.41 pydeck-0.8.1b0 smmap-5.0.1 streamlit-1.30.0 tzdata-2023.4 tzlocal-5.2 validators-0.22.0\n"
     ]
    }
   ],
   "source": [
    "!pip install streamlit"
   ]
  },
  {
   "cell_type": "code",
   "execution_count": 35,
   "id": "b811f9a7",
   "metadata": {},
   "outputs": [],
   "source": [
    "import streamlit as st"
   ]
  },
  {
   "cell_type": "code",
   "execution_count": 36,
   "id": "a10bac36",
   "metadata": {},
   "outputs": [],
   "source": [
    "def get_answer(question):\n",
    "    # Use the chain function to get the response for the given question\n",
    "    response = chain(question)\n",
    "\n",
    "    # Extract the result from the response\n",
    "    # Make sure this aligns with how your chain function structures its response\n",
    "    answer = response['result'] if 'result' in response else \"No answer found.\"\n",
    "\n",
    "    return answer"
   ]
  },
  {
   "cell_type": "code",
   "execution_count": 37,
   "id": "ffb071d9",
   "metadata": {
    "collapsed": true
   },
   "outputs": [
    {
     "name": "stderr",
     "output_type": "stream",
     "text": [
      "2024-01-26 23:19:34.879 \n",
      "  \u001b[33m\u001b[1mWarning:\u001b[0m to view this Streamlit app on a browser, run it with the following\n",
      "  command:\n",
      "\n",
      "    streamlit run C:\\Users\\IHSAN B P\\anaconda3\\lib\\site-packages\\ipykernel_launcher.py [ARGUMENTS]\n"
     ]
    }
   ],
   "source": [
    "# Streamlit UI components\n",
    "st.title('48 Laws of Power Q&A')\n",
    "\n",
    "question = st.text_input(\"Ask a question:\")\n",
    "\n",
    "if st.button('Submit'):\n",
    "    answer = get_answer(question)\n",
    "    st.write(\"Answer:\", answer)"
   ]
  },
  {
   "cell_type": "code",
   "execution_count": 38,
   "id": "8e832416",
   "metadata": {},
   "outputs": [],
   "source": [
    "import streamlit as st\n",
    "\n",
    "# Include your helper functions and the get_answer function here\n",
    "\n",
    "def main():\n",
    "    st.title('48 Laws of Power Q&A App')\n",
    "\n",
    "    # Text input for the question\n",
    "    question = st.text_input(\"Enter your question about 'The 48 Laws of Power':\")\n",
    "\n",
    "    # Button to submit the question\n",
    "    if st.button('Get Answer'):\n",
    "        if question:\n",
    "            answer = get_answer(question)\n",
    "            st.text(\"Answer:\")\n",
    "            st.write(answer)\n",
    "        else:\n",
    "            st.write(\"Please enter a question.\")\n",
    "\n",
    "if __name__ == \"__main__\":\n",
    "    main()\n"
   ]
  },
  {
   "cell_type": "code",
   "execution_count": 44,
   "id": "d4961ecf",
   "metadata": {
    "collapsed": true
   },
   "outputs": [
    {
     "name": "stdout",
     "output_type": "stream",
     "text": [
      "Requirement already satisfied: flask in c:\\users\\ihsan b p\\anaconda3\\lib\\site-packages (1.1.2)"
     ]
    },
    {
     "name": "stderr",
     "output_type": "stream",
     "text": [
      "WARNING: Ignoring invalid distribution -etuptools (c:\\users\\ihsan b p\\anaconda3\\lib\\site-packages)\n",
      "WARNING: Ignoring invalid distribution -etuptools (c:\\users\\ihsan b p\\anaconda3\\lib\\site-packages)\n",
      "WARNING: Ignoring invalid distribution -etuptools (c:\\users\\ihsan b p\\anaconda3\\lib\\site-packages)\n",
      "WARNING: Ignoring invalid distribution -etuptools (c:\\users\\ihsan b p\\anaconda3\\lib\\site-packages)\n",
      "WARNING: Ignoring invalid distribution -etuptools (c:\\users\\ihsan b p\\anaconda3\\lib\\site-packages)\n",
      "WARNING: Ignoring invalid distribution -etuptools (c:\\users\\ihsan b p\\anaconda3\\lib\\site-packages)\n",
      "\n",
      "[notice] A new release of pip is available: 23.0.1 -> 23.3.2\n",
      "[notice] To update, run: python.exe -m pip install --upgrade pip\n"
     ]
    },
    {
     "name": "stdout",
     "output_type": "stream",
     "text": [
      "\n",
      "Requirement already satisfied: itsdangerous>=0.24 in c:\\users\\ihsan b p\\anaconda3\\lib\\site-packages (from flask) (2.0.1)\n",
      "Requirement already satisfied: Werkzeug>=0.15 in c:\\users\\ihsan b p\\anaconda3\\lib\\site-packages (from flask) (2.0.3)\n",
      "Requirement already satisfied: Jinja2>=2.10.1 in c:\\users\\ihsan b p\\anaconda3\\lib\\site-packages (from flask) (2.11.3)\n",
      "Requirement already satisfied: click>=5.1 in c:\\users\\ihsan b p\\anaconda3\\lib\\site-packages (from flask) (8.0.4)\n",
      "Requirement already satisfied: colorama in c:\\users\\ihsan b p\\anaconda3\\lib\\site-packages (from click>=5.1->flask) (0.4.6)\n",
      "Requirement already satisfied: MarkupSafe>=0.23 in c:\\users\\ihsan b p\\anaconda3\\lib\\site-packages (from Jinja2>=2.10.1->flask) (2.0.1)\n"
     ]
    }
   ],
   "source": [
    "!pip install flask"
   ]
  },
  {
   "cell_type": "code",
   "execution_count": 48,
   "id": "bd43f950",
   "metadata": {},
   "outputs": [
    {
     "data": {
      "text/plain": [
       "Ellipsis"
      ]
     },
     "execution_count": 48,
     "metadata": {},
     "output_type": "execute_result"
    }
   ],
   "source": [
    "\n",
    "\n",
    "from flask import Flask, jsonify, request\n",
    "import threading\n",
    "\n",
    "# Include all your helper functions and imports\n",
    "\n",
    "# Global initialization\n",
    "data = data_loader(\"C:\\\\Users\\\\IHSAN B P\\\\Desktop\\\\ibp\\\\gen ai assessment\\\\48lawsofpower.pdf\")\n",
    "docs = convert_to_chunks(data)\n",
    "vdb = vector_store(docs)\n",
    "chain = chain_function(vdb)\n",
    "\n",
    "app = Flask(__name__)\n",
    "\n",
    "# Flask app route and functions\n",
    "...\n"
   ]
  },
  {
   "cell_type": "code",
   "execution_count": 49,
   "id": "59cf7d19",
   "metadata": {},
   "outputs": [],
   "source": [
    "@app.route('/', methods=['GET', 'POST'])\n",
    "def index():\n",
    "    if request.method == 'POST':\n",
    "        question = request.form.get('question')\n",
    "        response = chain(question)\n",
    "        answer = response['result']\n",
    "        return jsonify({'answer': answer})\n",
    "    return '''\n",
    "        <form method=\"post\">\n",
    "            Question: <input type=\"text\" name=\"question\"><br>\n",
    "            <input type=\"submit\" value=\"Submit\">\n",
    "        </form>\n",
    "    '''\n"
   ]
  },
  {
   "cell_type": "code",
   "execution_count": 50,
   "id": "b8f3a395",
   "metadata": {},
   "outputs": [
    {
     "name": "stdout",
     "output_type": "stream",
     "text": [
      " * Serving Flask app \"__main__\" (lazy loading)\n",
      " * Environment: production\n",
      "\u001b[31m   WARNING: This is a development server. Do not use it in a production deployment.\u001b[0m\n",
      "\u001b[2m   Use a production WSGI server instead.\u001b[0m\n",
      " * Debug mode: off\n"
     ]
    },
    {
     "name": "stderr",
     "output_type": "stream",
     "text": [
      " * Running on http://127.0.0.1:5000/ (Press CTRL+C to quit)\n",
      "127.0.0.1 - - [26/Jan/2024 23:44:35] \"GET / HTTP/1.1\" 200 -\n",
      "127.0.0.1 - - [26/Jan/2024 23:44:40] \"POST / HTTP/1.1\" 200 -\n"
     ]
    }
   ],
   "source": [
    "def run_app():\n",
    "    app.run(port=5000, use_reloader=False)\n",
    "\n",
    "flask_thread = threading.Thread(target=run_app)\n",
    "flask_thread.start()"
   ]
  },
  {
   "cell_type": "code",
   "execution_count": null,
   "id": "659b2bb8",
   "metadata": {},
   "outputs": [],
   "source": []
  }
 ],
 "metadata": {
  "kernelspec": {
   "display_name": "Python 3 (ipykernel)",
   "language": "python",
   "name": "python3"
  },
  "language_info": {
   "codemirror_mode": {
    "name": "ipython",
    "version": 3
   },
   "file_extension": ".py",
   "mimetype": "text/x-python",
   "name": "python",
   "nbconvert_exporter": "python",
   "pygments_lexer": "ipython3",
   "version": "3.9.12"
  }
 },
 "nbformat": 4,
 "nbformat_minor": 5
}
